{
 "cells": [
  {
   "cell_type": "code",
   "execution_count": 1,
   "metadata": {},
   "outputs": [],
   "source": [
    "import pandas as pd\n",
    "import numpy as np\n",
    "from sklearn.preprocessing import StandardScaler\n",
    "from sklearn.model_selection import train_test_split\n",
    "from sklearn.linear_model import LogisticRegression\n",
    "from sklearn.metrics import confusion_matrix\n",
    "from sklearn.metrics import accuracy_score\n",
    "from sklearn import metrics\n",
    "\n",
    "df = pd.read_csv('personality_data.csv')\n",
    "#print(df)\n",
    "\n",
    "new_sample = [[0,5.99622622,1.714579264,1.727740986,-5]]"
   ]
  },
  {
   "cell_type": "code",
   "execution_count": 2,
   "metadata": {},
   "outputs": [],
   "source": [
    "# First Feature :- Neuroticism\n",
    "df_neuro = df.loc[:,'t - bar':'slant']\n",
    "df_neuro['N'] = df['N']\n",
    "\n",
    "# Second Feature :- Openness to Experience\n",
    "df_open = df.loc[:,'t - bar':'slant']\n",
    "df_open['O'] = df['O']\n",
    "\n",
    "# Third Feature :- Extraversion\n",
    "df_extra =  df.loc[:,'t - bar':'slant']\n",
    "df_extra['E'] = df['E']\n",
    "\n",
    "# Forth Feature :- Agreeableness\n",
    "df_agree = df.loc[:,'t - bar':'slant']\n",
    "df_agree['A'] = df['A']\n",
    "\n",
    "# Fifth feature :- Conscientiousness\n",
    "df_consc = df.loc[:,'t - bar':'slant']\n",
    "df_consc['C'] = df['C']\n",
    "\n",
    "# Neutral Feature\n",
    "df_neutral = df.loc[:,'t - bar':'slant']\n",
    "df_neutral['neutral'] = df['neutral']\n",
    "\n",
    "\n",
    "# df_neuro\n",
    "# df_open\n",
    "# df_extra\n",
    "# df_agree\n",
    "# df_consc\n",
    "# df_neutral"
   ]
  },
  {
   "cell_type": "markdown",
   "metadata": {},
   "source": [
    "# Logistic Regression"
   ]
  },
  {
   "cell_type": "code",
   "execution_count": 3,
   "metadata": {},
   "outputs": [
    {
     "name": "stdout",
     "output_type": "stream",
     "text": [
      "Applying Logistic Regression to df_neuro\n",
      "Confusion Matrix : \n",
      " [[4 0]\n",
      " [2 1]]\n",
      "Accuracy :  0.7142857142857143\n",
      "Output for New Sample :  [1]\n"
     ]
    }
   ],
   "source": [
    "print(\"Applying Logistic Regression to df_neuro\")\n",
    "\n",
    "# input/optput for model\n",
    "features_lr_neuro = df_neuro.loc[:,:'slant'].values\n",
    "target_lr_neuro = df_neuro.loc[:,'N'].values\n",
    "\n",
    "# spliting dataset\n",
    "xtrain, xtest, ytrain, ytest = train_test_split(features_lr_neuro, target_lr_neuro, test_size = 0.25,random_state=42)\n",
    "\n",
    "# Standardization\n",
    "sc_x = StandardScaler()\n",
    "xtrain = sc_x.fit_transform(xtrain) \n",
    "xtest = sc_x.transform(xtest)\n",
    "\n",
    "# model fitting \n",
    "classifier_lr_neuro = LogisticRegression(random_state = 0)\n",
    "classifier_lr_neuro.fit(xtrain, ytrain)\n",
    "\n",
    "# prediction from model\n",
    "y_pred = classifier_lr_neuro.predict(xtest)\n",
    "\n",
    "# ploting confusion matrix\n",
    "cm = confusion_matrix(ytest, y_pred)\n",
    "print (\"Confusion Matrix : \\n\", cm)\n",
    "\n",
    "# printing accuracy\n",
    "print (\"Accuracy : \", accuracy_score(ytest, y_pred))\n",
    "\n",
    "# predction for sample data\n",
    "sample_pred_lr_neuro = classifier_lr_neuro.predict(new_sample)\n",
    "print(\"Output for New Sample : \",sample_pred_lr_neuro)"
   ]
  },
  {
   "cell_type": "code",
   "execution_count": 4,
   "metadata": {},
   "outputs": [
    {
     "name": "stdout",
     "output_type": "stream",
     "text": [
      "Applying Logistic Regression to df_open\n",
      "Confusion Matrix : \n",
      " [[4 0]\n",
      " [1 2]]\n",
      "Accuracy :  0.8571428571428571\n",
      "Output for New Sample :  [0]\n"
     ]
    }
   ],
   "source": [
    "print(\"Applying Logistic Regression to df_open\")\n",
    "\n",
    "# input/optput for model\n",
    "features_lr_open = df_open.loc[:,:'slant'].values\n",
    "target_lr_open = df_open.loc[:,'O'].values\n",
    "\n",
    "# spliting dataset\n",
    "xtrain, xtest, ytrain, ytest = train_test_split(features_lr_open, target_lr_open, test_size = 0.25,random_state=42)\n",
    "\n",
    "# Standardization\n",
    "sc_x = StandardScaler()\n",
    "xtrain = sc_x.fit_transform(xtrain) \n",
    "xtest = sc_x.transform(xtest)\n",
    "\n",
    "# model fitting \n",
    "classifier_lr_open = LogisticRegression(random_state = 0)\n",
    "classifier_lr_open.fit(xtrain, ytrain)\n",
    "\n",
    "# prediction from model\n",
    "y_pred = classifier_lr_open.predict(xtest)\n",
    "\n",
    "# ploting confusion matrix\n",
    "cm = confusion_matrix(ytest, y_pred)\n",
    "print (\"Confusion Matrix : \\n\", cm)\n",
    "\n",
    "# printing accuracy\n",
    "print (\"Accuracy : \", accuracy_score(ytest, y_pred))\n",
    "\n",
    "# predction for sample data\n",
    "sample_pred_lr_open = classifier_lr_open.predict(new_sample)\n",
    "print(\"Output for New Sample : \",sample_pred_lr_open)"
   ]
  },
  {
   "cell_type": "code",
   "execution_count": 5,
   "metadata": {},
   "outputs": [
    {
     "name": "stdout",
     "output_type": "stream",
     "text": [
      "Applying Logistic Regression to df_extra\n",
      "Confusion Matrix : \n",
      " [[6 0]\n",
      " [1 0]]\n",
      "Accuracy :  0.8571428571428571\n",
      "Output for New Sample :  [0]\n"
     ]
    }
   ],
   "source": [
    "print(\"Applying Logistic Regression to df_extra\")\n",
    "\n",
    "# input/optput for model\n",
    "features_lr_extra = df_extra.loc[:,:'slant'].values\n",
    "target_lr_extra = df_extra.loc[:,'E'].values\n",
    "\n",
    "# spliting dataset\n",
    "xtrain, xtest, ytrain, ytest = train_test_split(features_lr_extra, target_lr_extra, test_size = 0.25,random_state=42)\n",
    "\n",
    "# Standardization\n",
    "sc_x = StandardScaler()\n",
    "xtrain = sc_x.fit_transform(xtrain) \n",
    "xtest = sc_x.transform(xtest)\n",
    "\n",
    "# model fitting \n",
    "classifier_lr_extra = LogisticRegression(random_state = 0)\n",
    "classifier_lr_extra.fit(xtrain, ytrain)\n",
    "\n",
    "# prediction from model\n",
    "y_pred = classifier_lr_extra.predict(xtest)\n",
    "\n",
    "# ploting confusion matrix\n",
    "cm = confusion_matrix(ytest, y_pred)\n",
    "print (\"Confusion Matrix : \\n\", cm)\n",
    "\n",
    "# printing accuracy\n",
    "print (\"Accuracy : \", accuracy_score(ytest, y_pred))\n",
    "\n",
    "# predction for sample data\n",
    "sample_pred_lr_extra = classifier_lr_extra.predict(new_sample)\n",
    "print(\"Output for New Sample : \",sample_pred_lr_extra)\n"
   ]
  },
  {
   "cell_type": "code",
   "execution_count": 6,
   "metadata": {},
   "outputs": [
    {
     "name": "stdout",
     "output_type": "stream",
     "text": [
      "Applying Logistic Regression to df_agree\n",
      "Confusion Matrix : \n",
      " [[5 0]\n",
      " [1 1]]\n",
      "Accuracy :  0.8571428571428571\n",
      "Output for New Sample :  [1]\n"
     ]
    }
   ],
   "source": [
    "print(\"Applying Logistic Regression to df_agree\")\n",
    "\n",
    "# input/optput for model\n",
    "features_lr_agree = df_agree.loc[:,:'slant'].values\n",
    "target_lr_agree = df_agree.loc[:,'A'].values\n",
    "\n",
    "# spliting dataset\n",
    "xtrain, xtest, ytrain, ytest = train_test_split(features_lr_agree, target_lr_agree, test_size = 0.25,random_state=42)\n",
    "\n",
    "# Standardization\n",
    "from sklearn.preprocessing import StandardScaler\n",
    "sc_x = StandardScaler()\n",
    "xtrain = sc_x.fit_transform(xtrain) \n",
    "xtest = sc_x.transform(xtest)\n",
    "\n",
    "# model fitting \n",
    "from sklearn.linear_model import LogisticRegression\n",
    "classifier_lr_agree = LogisticRegression(random_state = 0)\n",
    "classifier_lr_agree.fit(xtrain, ytrain)\n",
    "\n",
    "# prediction from model\n",
    "y_pred = classifier_lr_agree.predict(xtest)\n",
    "\n",
    "# ploting confusion matrix\n",
    "from sklearn.metrics import confusion_matrix\n",
    "cm = confusion_matrix(ytest, y_pred)\n",
    "print (\"Confusion Matrix : \\n\", cm)\n",
    "\n",
    "# printing accuracy\n",
    "from sklearn.metrics import accuracy_score\n",
    "print (\"Accuracy : \", accuracy_score(ytest, y_pred))\n",
    "\n",
    "# predction for sample data\n",
    "sample_pred_lr_agree = classifier_lr_agree.predict(new_sample)\n",
    "print(\"Output for New Sample : \",sample_pred_lr_agree)"
   ]
  },
  {
   "cell_type": "code",
   "execution_count": 7,
   "metadata": {},
   "outputs": [
    {
     "name": "stdout",
     "output_type": "stream",
     "text": [
      "Applying Logistic Regression to df_consc\n",
      "Confusion Matrix : \n",
      " [[7]]\n",
      "Accuracy :  1.0\n",
      "Output for New Sample :  [0]\n"
     ]
    }
   ],
   "source": [
    "print(\"Applying Logistic Regression to df_consc\")\n",
    "\n",
    "# input/optput for model\n",
    "features_lr_consc = df_consc.loc[:,:'slant'].values\n",
    "target_lr_consc = df_consc.loc[:,'C'].values\n",
    "\n",
    "# spliting dataset\n",
    "xtrain, xtest, ytrain, ytest = train_test_split(features_lr_consc, target_lr_consc, test_size = 0.25,random_state=42)\n",
    "\n",
    "# Standardization\n",
    "sc_x = StandardScaler()\n",
    "xtrain = sc_x.fit_transform(xtrain) \n",
    "xtest = sc_x.transform(xtest)\n",
    "\n",
    "# model fitting \n",
    "classifier_lr_consc = LogisticRegression(random_state = 0)\n",
    "classifier_lr_consc.fit(xtrain, ytrain)\n",
    "\n",
    "# prediction from model\n",
    "y_pred = classifier_lr_consc.predict(xtest)\n",
    "\n",
    "# ploting confusion matrix\n",
    "cm = confusion_matrix(ytest, y_pred)\n",
    "print (\"Confusion Matrix : \\n\", cm)\n",
    "\n",
    "# printing accuracy\n",
    "print (\"Accuracy : \", accuracy_score(ytest, y_pred))\n",
    "\n",
    "# predction for sample data\n",
    "sample_pred_lr_consc = classifier_lr_consc.predict(new_sample)\n",
    "print(\"Output for New Sample : \",sample_pred_lr_consc)"
   ]
  },
  {
   "cell_type": "code",
   "execution_count": 8,
   "metadata": {},
   "outputs": [
    {
     "name": "stdout",
     "output_type": "stream",
     "text": [
      "Output Vector: [1] [0] [0] [1] [0]\n"
     ]
    }
   ],
   "source": [
    "lr_output = [sample_pred_lr_neuro,sample_pred_lr_open,sample_pred_lr_extra,sample_pred_lr_agree,sample_pred_lr_consc] \n",
    "print(\"Output Vector:\" , *lr_output)"
   ]
  },
  {
   "cell_type": "markdown",
   "metadata": {},
   "source": [
    "# Random Forest"
   ]
  },
  {
   "cell_type": "code",
   "execution_count": 9,
   "metadata": {},
   "outputs": [],
   "source": [
    "import warnings\n",
    "warnings.filterwarnings(\"ignore\", category=DeprecationWarning)\n",
    "\n",
    "from sklearn.ensemble import RandomForestClassifier"
   ]
  },
  {
   "cell_type": "code",
   "execution_count": 10,
   "metadata": {},
   "outputs": [],
   "source": [
    "# input/optput for model\n",
    "features_rf_neuro = df_neuro.loc[:,:'slant'].values\n",
    "target_rf_neuro = df_neuro.loc[:,'N'].values\n",
    "\n",
    "# spliting dataset\n",
    "xtrain, xtest, ytrain, ytest = train_test_split(features_rf_neuro, target_rf_neuro, test_size = 0.25,random_state=42)"
   ]
  },
  {
   "cell_type": "code",
   "execution_count": 11,
   "metadata": {},
   "outputs": [
    {
     "name": "stdout",
     "output_type": "stream",
     "text": [
      "Accuracy: 0.8571428571428571\n",
      "Output for New Sample :  [0]\n"
     ]
    }
   ],
   "source": [
    "classifier = RandomForestClassifier(min_samples_split=2, min_samples_leaf=1, max_features='auto', \n",
    "                                   max_depth=90, n_estimators = 1300, random_state=42)\n",
    "classifier.fit(xtrain, ytrain)\n",
    "y_pred=classifier.predict(xtest)\n",
    "\n",
    "print(\"Accuracy:\",metrics.accuracy_score(ytest, y_pred))\n",
    "sample_pred_rf_neuro = classifier.predict(new_sample)\n",
    "print(\"Output for New Sample : \",sample_pred_rf_neuro)"
   ]
  },
  {
   "cell_type": "code",
   "execution_count": 12,
   "metadata": {},
   "outputs": [],
   "source": [
    "#openness"
   ]
  },
  {
   "cell_type": "code",
   "execution_count": 13,
   "metadata": {},
   "outputs": [],
   "source": [
    "# input/optput for model\n",
    "features_rf_open = df_open.loc[:,:'slant'].values\n",
    "target_rf_open= df_open.loc[:,'O'].values\n",
    "\n",
    "# spliting dataset\n",
    "xtrain, xtest, ytrain, ytest = train_test_split(features_rf_open, target_rf_open, test_size = 0.25,random_state=42)"
   ]
  },
  {
   "cell_type": "code",
   "execution_count": 14,
   "metadata": {},
   "outputs": [
    {
     "name": "stdout",
     "output_type": "stream",
     "text": [
      "Accuracy: 0.8571428571428571\n",
      "Output for New Sample :  [0]\n"
     ]
    }
   ],
   "source": [
    "classifier = RandomForestClassifier(min_samples_split=2, min_samples_leaf=1, max_features='auto', \n",
    "                                   max_depth=90, n_estimators = 1300, random_state=42)\n",
    "classifier.fit(xtrain, ytrain)\n",
    "y_pred=classifier.predict(xtest)\n",
    "\n",
    "print(\"Accuracy:\",metrics.accuracy_score(ytest, y_pred))\n",
    "sample_pred_rf_open = classifier.predict(new_sample)\n",
    "print(\"Output for New Sample : \",sample_pred_rf_open)"
   ]
  },
  {
   "cell_type": "code",
   "execution_count": 15,
   "metadata": {},
   "outputs": [],
   "source": [
    "#extraversion"
   ]
  },
  {
   "cell_type": "code",
   "execution_count": 16,
   "metadata": {},
   "outputs": [],
   "source": [
    "# input/optput for model\n",
    "features_rf_extra = df_extra.loc[:,:'slant'].values\n",
    "target_rf_extra= df_extra.loc[:,'E'].values\n",
    "\n",
    "# spliting dataset\n",
    "xtrain, xtest, ytrain, ytest = train_test_split(features_rf_extra, target_rf_extra, test_size = 0.25,random_state=42)"
   ]
  },
  {
   "cell_type": "code",
   "execution_count": 17,
   "metadata": {},
   "outputs": [
    {
     "name": "stdout",
     "output_type": "stream",
     "text": [
      "Accuracy: 0.8571428571428571\n",
      "Output for New Sample :  [0]\n"
     ]
    }
   ],
   "source": [
    "classifier = RandomForestClassifier(min_samples_split=2, min_samples_leaf=1, max_features='auto', \n",
    "                                   max_depth=90, n_estimators = 1300, random_state=42)\n",
    "classifier.fit(xtrain, ytrain)\n",
    "y_pred=classifier.predict(xtest)\n",
    "\n",
    "print(\"Accuracy:\",metrics.accuracy_score(ytest, y_pred))\n",
    "sample_pred_rf_extra= classifier.predict(new_sample)\n",
    "print(\"Output for New Sample : \",sample_pred_rf_extra)"
   ]
  },
  {
   "cell_type": "code",
   "execution_count": 18,
   "metadata": {},
   "outputs": [],
   "source": [
    "#agreeableness"
   ]
  },
  {
   "cell_type": "code",
   "execution_count": 19,
   "metadata": {},
   "outputs": [],
   "source": [
    "# input/optput for model\n",
    "features_rf_agree = df_agree.loc[:,:'slant'].values\n",
    "target_rf_agree= df_agree.loc[:,'A'].values\n",
    "\n",
    "# spliting dataset\n",
    "xtrain, xtest, ytrain, ytest = train_test_split(features_rf_agree, target_rf_agree, test_size = 0.25,random_state=42)"
   ]
  },
  {
   "cell_type": "code",
   "execution_count": 20,
   "metadata": {},
   "outputs": [
    {
     "name": "stdout",
     "output_type": "stream",
     "text": [
      "Accuracy: 0.8571428571428571\n",
      "Output for New Sample :  [1]\n"
     ]
    }
   ],
   "source": [
    "classifier = RandomForestClassifier(min_samples_split=2, min_samples_leaf=1, max_features='auto', \n",
    "                                   max_depth=90, n_estimators = 1300, random_state=42)\n",
    "classifier.fit(xtrain, ytrain)\n",
    "y_pred=classifier.predict(xtest)\n",
    "\n",
    "print(\"Accuracy:\",metrics.accuracy_score(ytest, y_pred))\n",
    "sample_pred_rf_agree = classifier.predict(new_sample)\n",
    "print(\"Output for New Sample : \",sample_pred_rf_agree)"
   ]
  },
  {
   "cell_type": "code",
   "execution_count": 21,
   "metadata": {},
   "outputs": [],
   "source": [
    "#Conscientiousness"
   ]
  },
  {
   "cell_type": "code",
   "execution_count": 22,
   "metadata": {},
   "outputs": [],
   "source": [
    "# input/optput for model\n",
    "features_rf_consc = df_agree.loc[:,:'slant'].values\n",
    "target_rf_consc= df_agree.loc[:,'A'].values\n",
    "\n",
    "# spliting dataset\n",
    "xtrain, xtest, ytrain, ytest = train_test_split(features_rf_consc, target_rf_consc, test_size = 0.25,random_state=42)"
   ]
  },
  {
   "cell_type": "code",
   "execution_count": 23,
   "metadata": {},
   "outputs": [
    {
     "name": "stdout",
     "output_type": "stream",
     "text": [
      "Accuracy: 0.8571428571428571\n",
      "Output for New Sample :  [1]\n"
     ]
    }
   ],
   "source": [
    "classifier = RandomForestClassifier(min_samples_split=2, min_samples_leaf=1, max_features='auto', \n",
    "                                   max_depth=90, n_estimators = 1300, random_state=42)\n",
    "classifier.fit(xtrain, ytrain)\n",
    "y_pred=classifier.predict(xtest)\n",
    "\n",
    "print(\"Accuracy:\",metrics.accuracy_score(ytest, y_pred))\n",
    "sample_pred_rf_consc= classifier.predict(new_sample)\n",
    "print(\"Output for New Sample : \",sample_pred_rf_consc)"
   ]
  },
  {
   "cell_type": "code",
   "execution_count": 24,
   "metadata": {},
   "outputs": [
    {
     "name": "stdout",
     "output_type": "stream",
     "text": [
      "Output Vector: [0] [0] [0] [1] [1]\n"
     ]
    }
   ],
   "source": [
    "rf_output = [sample_pred_rf_neuro,sample_pred_rf_open,sample_pred_rf_extra,sample_pred_rf_agree,sample_pred_rf_consc] \n",
    "print(\"Output Vector:\" , *rf_output)"
   ]
  },
  {
   "cell_type": "markdown",
   "metadata": {},
   "source": [
    "# SVM"
   ]
  },
  {
   "cell_type": "code",
   "execution_count": 25,
   "metadata": {},
   "outputs": [],
   "source": [
    "#neuroticism"
   ]
  },
  {
   "cell_type": "code",
   "execution_count": 26,
   "metadata": {},
   "outputs": [],
   "source": [
    "# input/optput for model\n",
    "features_svm_neuro = df_neuro.loc[:,:'slant'].values\n",
    "target_svm_neuro = df_neuro.loc[:,'N'].values\n",
    "\n",
    "# spliting dataset\n",
    "xtrain, xtest, ytrain, ytest = train_test_split(features_svm_neuro, target_svm_neuro, test_size = 0.25,random_state=42)"
   ]
  },
  {
   "cell_type": "code",
   "execution_count": 27,
   "metadata": {},
   "outputs": [
    {
     "name": "stdout",
     "output_type": "stream",
     "text": [
      "Accuracy: 0.5714285714285714\n",
      "Output for New Sample :  [0]\n"
     ]
    }
   ],
   "source": [
    "from sklearn import svm\n",
    "\n",
    "#Create a svm Classifier\n",
    "clf = svm.SVC(kernel='poly') # Non-Linear Kernel\n",
    "\n",
    "#Train the model using the training sets\n",
    "clf.fit(xtrain, ytrain)\n",
    "\n",
    "#Predict the response for test dataset\n",
    "y_pred = clf.predict(xtest)\n",
    "\n",
    "print(\"Accuracy:\",metrics.accuracy_score(ytest, y_pred))\n",
    "sample_pred_svm_neuro = clf.predict(new_sample)\n",
    "print(\"Output for New Sample : \",sample_pred_svm_neuro)"
   ]
  },
  {
   "cell_type": "code",
   "execution_count": 28,
   "metadata": {},
   "outputs": [],
   "source": [
    "#openness"
   ]
  },
  {
   "cell_type": "code",
   "execution_count": 29,
   "metadata": {},
   "outputs": [],
   "source": [
    "# input/optput for model\n",
    "features_svm_open = df_open.loc[:,:'slant'].values\n",
    "target_svm_open= df_open.loc[:,'O'].values\n",
    "\n",
    "# spliting dataset\n",
    "xtrain, xtest, ytrain, ytest = train_test_split(features_svm_open, target_svm_open, test_size = 0.25,random_state=42)"
   ]
  },
  {
   "cell_type": "code",
   "execution_count": 30,
   "metadata": {},
   "outputs": [
    {
     "name": "stdout",
     "output_type": "stream",
     "text": [
      "Accuracy: 1.0\n",
      "Output for New Sample :  [0]\n"
     ]
    }
   ],
   "source": [
    "from sklearn import svm\n",
    "\n",
    "#Create a svm Classifier\n",
    "clf = svm.SVC(kernel='poly') # Non-Linear Kernel\n",
    "\n",
    "#Train the model using the training sets\n",
    "clf.fit(xtrain, ytrain)\n",
    "\n",
    "#Predict the response for test dataset\n",
    "y_pred = clf.predict(xtest)\n",
    "\n",
    "print(\"Accuracy:\",metrics.accuracy_score(ytest, y_pred))\n",
    "sample_pred_svm_open = clf.predict(new_sample)\n",
    "print(\"Output for New Sample : \",sample_pred_svm_open)"
   ]
  },
  {
   "cell_type": "code",
   "execution_count": 31,
   "metadata": {},
   "outputs": [],
   "source": [
    "#extraversion"
   ]
  },
  {
   "cell_type": "code",
   "execution_count": 32,
   "metadata": {},
   "outputs": [],
   "source": [
    "# input/optput for model\n",
    "features_svm_extra = df_extra.loc[:,:'slant'].values\n",
    "target_svm_extra= df_extra.loc[:,'E'].values\n",
    "\n",
    "# spliting dataset\n",
    "xtrain, xtest, ytrain, ytest = train_test_split(features_svm_extra, target_svm_extra, test_size = 0.25,random_state=42)"
   ]
  },
  {
   "cell_type": "code",
   "execution_count": 33,
   "metadata": {},
   "outputs": [
    {
     "name": "stdout",
     "output_type": "stream",
     "text": [
      "Accuracy: 0.7142857142857143\n",
      "Output for New Sample :  [0]\n"
     ]
    }
   ],
   "source": [
    "from sklearn import svm\n",
    "\n",
    "#Create a svm Classifier\n",
    "clf = svm.SVC(kernel='poly') # Non-Linear Kernel\n",
    "\n",
    "#Train the model using the training sets\n",
    "clf.fit(xtrain, ytrain)\n",
    "\n",
    "#Predict the response for test dataset\n",
    "y_pred = clf.predict(xtest)\n",
    "\n",
    "print(\"Accuracy:\",metrics.accuracy_score(ytest, y_pred))\n",
    "sample_pred_svm_extra= clf.predict(new_sample)\n",
    "print(\"Output for New Sample : \",sample_pred_svm_extra)"
   ]
  },
  {
   "cell_type": "code",
   "execution_count": 34,
   "metadata": {},
   "outputs": [],
   "source": [
    "#agreeableness"
   ]
  },
  {
   "cell_type": "code",
   "execution_count": 35,
   "metadata": {},
   "outputs": [],
   "source": [
    "# input/optput for model\n",
    "features_svm_agree = df_agree.loc[:,:'slant'].values\n",
    "target_svm_agree= df_agree.loc[:,'A'].values\n",
    "\n",
    "# spliting dataset\n",
    "xtrain, xtest, ytrain, ytest = train_test_split(features_svm_agree, target_svm_agree, test_size = 0.25,random_state=42)"
   ]
  },
  {
   "cell_type": "code",
   "execution_count": 36,
   "metadata": {},
   "outputs": [
    {
     "name": "stdout",
     "output_type": "stream",
     "text": [
      "Accuracy: 0.8571428571428571\n",
      "Output for New Sample :  [1]\n"
     ]
    }
   ],
   "source": [
    "from sklearn import svm\n",
    "\n",
    "#Create a svm Classifier\n",
    "clf = svm.SVC(kernel='poly') # Non-Linear Kernel\n",
    "\n",
    "#Train the model using the training sets\n",
    "clf.fit(xtrain, ytrain)\n",
    "\n",
    "#Predict the response for test dataset\n",
    "y_pred = clf.predict(xtest)\n",
    "\n",
    "print(\"Accuracy:\",metrics.accuracy_score(ytest, y_pred))\n",
    "sample_pred_svm_agree= clf.predict(new_sample)\n",
    "print(\"Output for New Sample : \",sample_pred_svm_agree)"
   ]
  },
  {
   "cell_type": "code",
   "execution_count": 37,
   "metadata": {},
   "outputs": [],
   "source": [
    "#Consciousteness"
   ]
  },
  {
   "cell_type": "code",
   "execution_count": 38,
   "metadata": {},
   "outputs": [],
   "source": [
    "# input/optput for model\n",
    "features_svm_consc = df_agree.loc[:,:'slant'].values\n",
    "target_svm_consc= df_agree.loc[:,'A'].values\n",
    "\n",
    "# spliting dataset\n",
    "xtrain, xtest, ytrain, ytest = train_test_split(features_svm_consc, target_svm_consc, test_size = 0.25,random_state=42)"
   ]
  },
  {
   "cell_type": "code",
   "execution_count": 39,
   "metadata": {},
   "outputs": [
    {
     "name": "stdout",
     "output_type": "stream",
     "text": [
      "Accuracy: 0.8571428571428571\n",
      "Output for New Sample :  [1]\n"
     ]
    }
   ],
   "source": [
    "from sklearn import svm\n",
    "\n",
    "#Create a svm Classifier\n",
    "clf = svm.SVC(kernel='poly') # Non-Linear Kernel\n",
    "\n",
    "#Train the model using the training sets\n",
    "clf.fit(xtrain, ytrain)\n",
    "\n",
    "#Predict the response for test dataset\n",
    "y_pred = clf.predict(xtest)\n",
    "\n",
    "print(\"Accuracy:\",metrics.accuracy_score(ytest, y_pred))\n",
    "sample_pred_svm_consc= clf.predict(new_sample)\n",
    "print(\"Output for New Sample : \",sample_pred_svm_consc)"
   ]
  },
  {
   "cell_type": "code",
   "execution_count": 40,
   "metadata": {},
   "outputs": [
    {
     "name": "stdout",
     "output_type": "stream",
     "text": [
      "Output Vector: [0] [0] [0] [1] [1]\n"
     ]
    }
   ],
   "source": [
    "svm_output = [sample_pred_svm_neuro,sample_pred_svm_open,sample_pred_svm_extra,sample_pred_svm_agree,sample_pred_svm_consc] \n",
    "print(\"Output Vector:\" , *svm_output)"
   ]
  },
  {
   "cell_type": "code",
   "execution_count": null,
   "metadata": {},
   "outputs": [],
   "source": []
  }
 ],
 "metadata": {
  "kernelspec": {
   "display_name": "Python 3",
   "language": "python",
   "name": "python3"
  },
  "language_info": {
   "codemirror_mode": {
    "name": "ipython",
    "version": 3
   },
   "file_extension": ".py",
   "mimetype": "text/x-python",
   "name": "python",
   "nbconvert_exporter": "python",
   "pygments_lexer": "ipython3",
   "version": "3.8.5"
  }
 },
 "nbformat": 4,
 "nbformat_minor": 5
}
